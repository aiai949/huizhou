{
  "nbformat": 4,
  "nbformat_minor": 0,
  "metadata": {
    "colab": {
      "name": "hw5-Intro to Deep Learning.ipynb",
      "provenance": [],
      "collapsed_sections": [],
      "include_colab_link": true
    },
    "kernelspec": {
      "name": "python3",
      "display_name": "Python 3"
    }
  },
  "cells": [
    {
      "cell_type": "markdown",
      "metadata": {
        "id": "view-in-github",
        "colab_type": "text"
      },
      "source": [
        "<a href=\"https://colab.research.google.com/github/aiai949/huizhou/blob/master/hw5_Intro_to_Deep_Learning.ipynb\" target=\"_parent\"><img src=\"https://colab.research.google.com/assets/colab-badge.svg\" alt=\"Open In Colab\"/></a>"
      ]
    },
    {
      "cell_type": "code",
      "metadata": {
        "id": "xk0KGnH4GAP0",
        "colab_type": "code",
        "outputId": "c30f2cdd-8c6a-4b69-9015-7233de4258f0",
        "colab": {
          "base_uri": "https://localhost:8080/",
          "height": 34
        }
      },
      "source": [
        "! python3 --version"
      ],
      "execution_count": 0,
      "outputs": [
        {
          "output_type": "stream",
          "text": [
            "Python 3.6.8\n"
          ],
          "name": "stdout"
        }
      ]
    },
    {
      "cell_type": "code",
      "metadata": {
        "id": "zsD2s-J4GGZ0",
        "colab_type": "code",
        "outputId": "241d6c1c-4990-4280-982d-79bce7b2e9dd",
        "colab": {
          "base_uri": "https://localhost:8080/",
          "height": 34
        }
      },
      "source": [
        "pip install numpy"
      ],
      "execution_count": 0,
      "outputs": [
        {
          "output_type": "stream",
          "text": [
            "Requirement already satisfied: numpy in /usr/local/lib/python3.6/dist-packages (1.16.5)\n"
          ],
          "name": "stdout"
        }
      ]
    },
    {
      "cell_type": "code",
      "metadata": {
        "id": "B4ukFJAHGYtN",
        "colab_type": "code",
        "outputId": "54e543ea-d438-426b-f5cb-854a65288119",
        "colab": {
          "base_uri": "https://localhost:8080/",
          "height": 221
        }
      },
      "source": [
        "pip install cloudmesh-installer"
      ],
      "execution_count": 0,
      "outputs": [
        {
          "output_type": "stream",
          "text": [
            "Requirement already satisfied: cloudmesh-installer in /usr/local/lib/python3.6/dist-packages (4.2.5)\n",
            "Requirement already satisfied: python-hostlist in /usr/local/lib/python3.6/dist-packages (from cloudmesh-installer) (1.18)\n",
            "Requirement already satisfied: requests in /usr/local/lib/python3.6/dist-packages (from cloudmesh-installer) (2.21.0)\n",
            "Requirement already satisfied: colorama in /usr/local/lib/python3.6/dist-packages (from cloudmesh-installer) (0.4.1)\n",
            "Requirement already satisfied: tabulate in /usr/local/lib/python3.6/dist-packages (from cloudmesh-installer) (0.8.5)\n",
            "Requirement already satisfied: docopt in /usr/local/lib/python3.6/dist-packages (from cloudmesh-installer) (0.6.2)\n",
            "Requirement already satisfied: oyaml in /usr/local/lib/python3.6/dist-packages (from cloudmesh-installer) (0.9)\n",
            "Requirement already satisfied: chardet<3.1.0,>=3.0.2 in /usr/local/lib/python3.6/dist-packages (from requests->cloudmesh-installer) (3.0.4)\n",
            "Requirement already satisfied: idna<2.9,>=2.5 in /usr/local/lib/python3.6/dist-packages (from requests->cloudmesh-installer) (2.8)\n",
            "Requirement already satisfied: urllib3<1.25,>=1.21.1 in /usr/local/lib/python3.6/dist-packages (from requests->cloudmesh-installer) (1.24.3)\n",
            "Requirement already satisfied: certifi>=2017.4.17 in /usr/local/lib/python3.6/dist-packages (from requests->cloudmesh-installer) (2019.9.11)\n",
            "Requirement already satisfied: pyyaml in /usr/local/lib/python3.6/dist-packages (from oyaml->cloudmesh-installer) (3.13)\n"
          ],
          "name": "stdout"
        }
      ]
    },
    {
      "cell_type": "code",
      "metadata": {
        "id": "pemPXPiOGptP",
        "colab_type": "code",
        "colab": {}
      },
      "source": [
        "import numpy as np"
      ],
      "execution_count": 0,
      "outputs": []
    },
    {
      "cell_type": "code",
      "metadata": {
        "id": "gvCm4PDqGuWL",
        "colab_type": "code",
        "outputId": "7ad79c67-c59f-4921-f5a0-93410996d971",
        "colab": {
          "base_uri": "https://localhost:8080/",
          "height": 238
        }
      },
      "source": [
        "pip install cloudmesh-common"
      ],
      "execution_count": 0,
      "outputs": [
        {
          "output_type": "stream",
          "text": [
            "Requirement already satisfied: cloudmesh-common in /usr/local/lib/python3.6/dist-packages (4.2.16)\n",
            "Requirement already satisfied: pathlib2 in /usr/local/lib/python3.6/dist-packages (from cloudmesh-common) (2.3.5)\n",
            "Requirement already satisfied: pathlib in /usr/local/lib/python3.6/dist-packages (from cloudmesh-common) (1.0.1)\n",
            "Requirement already satisfied: simplejson in /usr/local/lib/python3.6/dist-packages (from cloudmesh-common) (3.16.0)\n",
            "Requirement already satisfied: psutil in /usr/local/lib/python3.6/dist-packages (from cloudmesh-common) (5.4.8)\n",
            "Requirement already satisfied: python-dateutil in /usr/local/lib/python3.6/dist-packages (from cloudmesh-common) (2.5.3)\n",
            "Requirement already satisfied: oyaml in /usr/local/lib/python3.6/dist-packages (from cloudmesh-common) (0.9)\n",
            "Requirement already satisfied: python-hostlist in /usr/local/lib/python3.6/dist-packages (from cloudmesh-common) (1.18)\n",
            "Requirement already satisfied: humanize in /usr/local/lib/python3.6/dist-packages (from cloudmesh-common) (0.5.1)\n",
            "Requirement already satisfied: future in /usr/local/lib/python3.6/dist-packages (from cloudmesh-common) (0.16.0)\n",
            "Requirement already satisfied: colorama in /usr/local/lib/python3.6/dist-packages (from cloudmesh-common) (0.4.1)\n",
            "Requirement already satisfied: six in /usr/local/lib/python3.6/dist-packages (from pathlib2->cloudmesh-common) (1.12.0)\n",
            "Requirement already satisfied: pyyaml in /usr/local/lib/python3.6/dist-packages (from oyaml->cloudmesh-common) (3.13)\n"
          ],
          "name": "stdout"
        }
      ]
    },
    {
      "cell_type": "code",
      "metadata": {
        "id": "X-uyxR29JDtN",
        "colab_type": "code",
        "outputId": "af04c328-6284-42c2-afbd-d6280313b21a",
        "colab": {
          "base_uri": "https://localhost:8080/",
          "height": 442
        }
      },
      "source": [
        "!pip install cloudmesh-installer\n",
        "!pip install cloudmesh-common"
      ],
      "execution_count": 0,
      "outputs": [
        {
          "output_type": "stream",
          "text": [
            "Requirement already satisfied: cloudmesh-installer in /usr/local/lib/python3.6/dist-packages (4.2.5)\n",
            "Requirement already satisfied: requests in /usr/local/lib/python3.6/dist-packages (from cloudmesh-installer) (2.21.0)\n",
            "Requirement already satisfied: oyaml in /usr/local/lib/python3.6/dist-packages (from cloudmesh-installer) (0.9)\n",
            "Requirement already satisfied: python-hostlist in /usr/local/lib/python3.6/dist-packages (from cloudmesh-installer) (1.18)\n",
            "Requirement already satisfied: docopt in /usr/local/lib/python3.6/dist-packages (from cloudmesh-installer) (0.6.2)\n",
            "Requirement already satisfied: colorama in /usr/local/lib/python3.6/dist-packages (from cloudmesh-installer) (0.4.1)\n",
            "Requirement already satisfied: tabulate in /usr/local/lib/python3.6/dist-packages (from cloudmesh-installer) (0.8.5)\n",
            "Requirement already satisfied: urllib3<1.25,>=1.21.1 in /usr/local/lib/python3.6/dist-packages (from requests->cloudmesh-installer) (1.24.3)\n",
            "Requirement already satisfied: certifi>=2017.4.17 in /usr/local/lib/python3.6/dist-packages (from requests->cloudmesh-installer) (2019.9.11)\n",
            "Requirement already satisfied: chardet<3.1.0,>=3.0.2 in /usr/local/lib/python3.6/dist-packages (from requests->cloudmesh-installer) (3.0.4)\n",
            "Requirement already satisfied: idna<2.9,>=2.5 in /usr/local/lib/python3.6/dist-packages (from requests->cloudmesh-installer) (2.8)\n",
            "Requirement already satisfied: pyyaml in /usr/local/lib/python3.6/dist-packages (from oyaml->cloudmesh-installer) (3.13)\n",
            "Requirement already satisfied: cloudmesh-common in /usr/local/lib/python3.6/dist-packages (4.2.16)\n",
            "Requirement already satisfied: colorama in /usr/local/lib/python3.6/dist-packages (from cloudmesh-common) (0.4.1)\n",
            "Requirement already satisfied: python-hostlist in /usr/local/lib/python3.6/dist-packages (from cloudmesh-common) (1.18)\n",
            "Requirement already satisfied: python-dateutil in /usr/local/lib/python3.6/dist-packages (from cloudmesh-common) (2.5.3)\n",
            "Requirement already satisfied: oyaml in /usr/local/lib/python3.6/dist-packages (from cloudmesh-common) (0.9)\n",
            "Requirement already satisfied: simplejson in /usr/local/lib/python3.6/dist-packages (from cloudmesh-common) (3.16.0)\n",
            "Requirement already satisfied: humanize in /usr/local/lib/python3.6/dist-packages (from cloudmesh-common) (0.5.1)\n",
            "Requirement already satisfied: pathlib in /usr/local/lib/python3.6/dist-packages (from cloudmesh-common) (1.0.1)\n",
            "Requirement already satisfied: future in /usr/local/lib/python3.6/dist-packages (from cloudmesh-common) (0.16.0)\n",
            "Requirement already satisfied: psutil in /usr/local/lib/python3.6/dist-packages (from cloudmesh-common) (5.4.8)\n",
            "Requirement already satisfied: pathlib2 in /usr/local/lib/python3.6/dist-packages (from cloudmesh-common) (2.3.5)\n",
            "Requirement already satisfied: six>=1.5 in /usr/local/lib/python3.6/dist-packages (from python-dateutil->cloudmesh-common) (1.12.0)\n",
            "Requirement already satisfied: pyyaml in /usr/local/lib/python3.6/dist-packages (from oyaml->cloudmesh-common) (3.13)\n"
          ],
          "name": "stdout"
        }
      ]
    },
    {
      "cell_type": "code",
      "metadata": {
        "id": "yeOXPVoRJTf0",
        "colab_type": "code",
        "outputId": "1f43afc4-dab1-44d2-b9ae-f38f6496d896",
        "colab": {
          "base_uri": "https://localhost:8080/",
          "height": 357
        }
      },
      "source": [
        "! pip install tensorflow-gpu==1.14.0"
      ],
      "execution_count": 0,
      "outputs": [
        {
          "output_type": "stream",
          "text": [
            "Requirement already satisfied: tensorflow-gpu==1.14.0 in /usr/local/lib/python3.6/dist-packages (1.14.0)\n",
            "Requirement already satisfied: google-pasta>=0.1.6 in /usr/local/lib/python3.6/dist-packages (from tensorflow-gpu==1.14.0) (0.1.7)\n",
            "Requirement already satisfied: numpy<2.0,>=1.14.5 in /usr/local/lib/python3.6/dist-packages (from tensorflow-gpu==1.14.0) (1.16.5)\n",
            "Requirement already satisfied: tensorboard<1.15.0,>=1.14.0 in /usr/local/lib/python3.6/dist-packages (from tensorflow-gpu==1.14.0) (1.14.0)\n",
            "Requirement already satisfied: absl-py>=0.7.0 in /usr/local/lib/python3.6/dist-packages (from tensorflow-gpu==1.14.0) (0.8.0)\n",
            "Requirement already satisfied: protobuf>=3.6.1 in /usr/local/lib/python3.6/dist-packages (from tensorflow-gpu==1.14.0) (3.7.1)\n",
            "Requirement already satisfied: grpcio>=1.8.6 in /usr/local/lib/python3.6/dist-packages (from tensorflow-gpu==1.14.0) (1.15.0)\n",
            "Requirement already satisfied: gast>=0.2.0 in /usr/local/lib/python3.6/dist-packages (from tensorflow-gpu==1.14.0) (0.2.2)\n",
            "Requirement already satisfied: keras-preprocessing>=1.0.5 in /usr/local/lib/python3.6/dist-packages (from tensorflow-gpu==1.14.0) (1.1.0)\n",
            "Requirement already satisfied: wrapt>=1.11.1 in /usr/local/lib/python3.6/dist-packages (from tensorflow-gpu==1.14.0) (1.11.2)\n",
            "Requirement already satisfied: keras-applications>=1.0.6 in /usr/local/lib/python3.6/dist-packages (from tensorflow-gpu==1.14.0) (1.0.8)\n",
            "Requirement already satisfied: astor>=0.6.0 in /usr/local/lib/python3.6/dist-packages (from tensorflow-gpu==1.14.0) (0.8.0)\n",
            "Requirement already satisfied: termcolor>=1.1.0 in /usr/local/lib/python3.6/dist-packages (from tensorflow-gpu==1.14.0) (1.1.0)\n",
            "Requirement already satisfied: wheel>=0.26 in /usr/local/lib/python3.6/dist-packages (from tensorflow-gpu==1.14.0) (0.33.6)\n",
            "Requirement already satisfied: tensorflow-estimator<1.15.0rc0,>=1.14.0rc0 in /usr/local/lib/python3.6/dist-packages (from tensorflow-gpu==1.14.0) (1.14.0)\n",
            "Requirement already satisfied: six>=1.10.0 in /usr/local/lib/python3.6/dist-packages (from tensorflow-gpu==1.14.0) (1.12.0)\n",
            "Requirement already satisfied: markdown>=2.6.8 in /usr/local/lib/python3.6/dist-packages (from tensorboard<1.15.0,>=1.14.0->tensorflow-gpu==1.14.0) (3.1.1)\n",
            "Requirement already satisfied: werkzeug>=0.11.15 in /usr/local/lib/python3.6/dist-packages (from tensorboard<1.15.0,>=1.14.0->tensorflow-gpu==1.14.0) (0.16.0)\n",
            "Requirement already satisfied: setuptools>=41.0.0 in /usr/local/lib/python3.6/dist-packages (from tensorboard<1.15.0,>=1.14.0->tensorflow-gpu==1.14.0) (41.2.0)\n",
            "Requirement already satisfied: h5py in /usr/local/lib/python3.6/dist-packages (from keras-applications>=1.0.6->tensorflow-gpu==1.14.0) (2.8.0)\n"
          ],
          "name": "stdout"
        }
      ]
    },
    {
      "cell_type": "code",
      "metadata": {
        "id": "cIiIdO6NN4_5",
        "colab_type": "code",
        "outputId": "8a1af663-da29-4273-e93f-1e2886242ea9",
        "colab": {
          "base_uri": "https://localhost:8080/",
          "height": 34
        }
      },
      "source": [
        "! python3 --version"
      ],
      "execution_count": 0,
      "outputs": [
        {
          "output_type": "stream",
          "text": [
            "Python 3.6.8\n"
          ],
          "name": "stdout"
        }
      ]
    },
    {
      "cell_type": "code",
      "metadata": {
        "id": "TXmzIcu8N9xy",
        "colab_type": "code",
        "outputId": "e41521e0-1593-4709-874f-f26d43a75719",
        "colab": {
          "base_uri": "https://localhost:8080/",
          "height": 153
        }
      },
      "source": [
        "! pip install matplotlib"
      ],
      "execution_count": 0,
      "outputs": [
        {
          "output_type": "stream",
          "text": [
            "Requirement already satisfied: matplotlib in /usr/local/lib/python3.6/dist-packages (3.0.3)\n",
            "Requirement already satisfied: pyparsing!=2.0.4,!=2.1.2,!=2.1.6,>=2.0.1 in /usr/local/lib/python3.6/dist-packages (from matplotlib) (2.4.2)\n",
            "Requirement already satisfied: numpy>=1.10.0 in /usr/local/lib/python3.6/dist-packages (from matplotlib) (1.16.5)\n",
            "Requirement already satisfied: cycler>=0.10 in /usr/local/lib/python3.6/dist-packages (from matplotlib) (0.10.0)\n",
            "Requirement already satisfied: python-dateutil>=2.1 in /usr/local/lib/python3.6/dist-packages (from matplotlib) (2.5.3)\n",
            "Requirement already satisfied: kiwisolver>=1.0.1 in /usr/local/lib/python3.6/dist-packages (from matplotlib) (1.1.0)\n",
            "Requirement already satisfied: six in /usr/local/lib/python3.6/dist-packages (from cycler>=0.10->matplotlib) (1.12.0)\n",
            "Requirement already satisfied: setuptools in /usr/local/lib/python3.6/dist-packages (from kiwisolver>=1.0.1->matplotlib) (41.2.0)\n"
          ],
          "name": "stdout"
        }
      ]
    },
    {
      "cell_type": "markdown",
      "metadata": {
        "id": "CVCfvaxgBaUz",
        "colab_type": "text"
      },
      "source": [
        "# Import library"
      ]
    },
    {
      "cell_type": "code",
      "metadata": {
        "id": "2o8VPnwW--Cc",
        "colab_type": "code",
        "colab": {}
      },
      "source": [
        "from __future__ import absolute_import\n",
        "from __future__ import division\n",
        "from __future__ import print_function\n",
        "\n",
        "import time\n",
        "\n",
        "import numpy as np\n",
        "from keras.models import Sequential\n",
        "from keras.layers import Dense, Activation, Dropout\n",
        "from keras.utils import to_categorical, plot_model\n",
        "from keras.datasets import mnist\n",
        "\n",
        "from cloudmesh.common.StopWatch import StopWatch\n",
        "\n",
        "import matplotlib.pyplot as plt\n",
        "import matplotlib.image as mpimg\n"
      ],
      "execution_count": 0,
      "outputs": []
    },
    {
      "cell_type": "markdown",
      "metadata": {
        "id": "Hgx8u4Yt_jIJ",
        "colab_type": "text"
      },
      "source": [
        "# Load data"
      ]
    },
    {
      "cell_type": "code",
      "metadata": {
        "id": "8FsN2DJN_LzS",
        "colab_type": "code",
        "colab": {}
      },
      "source": [
        "StopWatch.start(\"data-load\")\n",
        "(x_train, y_train), (x_test, y_test) = mnist.load_data()\n",
        "StopWatch.stop(\"data-load\")"
      ],
      "execution_count": 0,
      "outputs": []
    },
    {
      "cell_type": "code",
      "metadata": {
        "id": "MIpKVzmV_SeD",
        "colab_type": "code",
        "outputId": "05907552-737e-4f36-fae8-51d9e1c1081e",
        "colab": {
          "base_uri": "https://localhost:8080/",
          "height": 286
        }
      },
      "source": [
        "x1 = x_train[100]\n",
        "y1 = y_train[100]\n",
        "plt.imshow(x1)\n",
        "y1\n"
      ],
      "execution_count": 0,
      "outputs": [
        {
          "output_type": "execute_result",
          "data": {
            "text/plain": [
              "5"
            ]
          },
          "metadata": {
            "tags": []
          },
          "execution_count": 72
        },
        {
          "output_type": "display_data",
          "data": {
            "image/png": "[encoded data removed]",
            "text/plain": [
              "<Figure size 432x288 with 1 Axes>"
            ]
          },
          "metadata": {
            "tags": []
          }
        }
      ]
    },
    {
      "cell_type": "markdown",
      "metadata": {
        "id": "OowaSqZ_DKnF",
        "colab_type": "text"
      },
      "source": [
        "# Identify number of classes"
      ]
    },
    {
      "cell_type": "code",
      "metadata": {
        "id": "lb6J4gv0DOLR",
        "colab_type": "code",
        "outputId": "083db311-13eb-43a5-b4c3-067005737bb9",
        "colab": {
          "base_uri": "https://localhost:8080/",
          "height": 34
        }
      },
      "source": [
        "num_labels = len(np.unique(y_train))\n",
        "num_labels"
      ],
      "execution_count": 0,
      "outputs": [
        {
          "output_type": "execute_result",
          "data": {
            "text/plain": [
              "10"
            ]
          },
          "metadata": {
            "tags": []
          },
          "execution_count": 15
        }
      ]
    },
    {
      "cell_type": "markdown",
      "metadata": {
        "id": "ALvq50TwDdBf",
        "colab_type": "text"
      },
      "source": [
        "# Convert labels to one-hot Vector"
      ]
    },
    {
      "cell_type": "markdown",
      "metadata": {
        "id": "pEfGptfw8Uj9",
        "colab_type": "text"
      },
      "source": [
        "**Exercise MNIST_V1.0.0: Understand what is an one-hot vector?**"
      ]
    },
    {
      "cell_type": "markdown",
      "metadata": {
        "id": "NIRV1yiKsox-",
        "colab_type": "text"
      },
      "source": [
        "one-hot is a group of bits among which the legal combinations of values are only those with a single high (1) bit and all the others low (0)."
      ]
    },
    {
      "cell_type": "code",
      "metadata": {
        "id": "YdTEEhbiDifL",
        "colab_type": "code",
        "colab": {}
      },
      "source": [
        "y_train = to_categorical(y_train)\n",
        "y_test = to_categorical(y_test)"
      ],
      "execution_count": 0,
      "outputs": []
    },
    {
      "cell_type": "markdown",
      "metadata": {
        "id": "T5MK9OkXEHGa",
        "colab_type": "text"
      },
      "source": [
        "# Image Reshaping"
      ]
    },
    {
      "cell_type": "code",
      "metadata": {
        "id": "WqgN89eOEH1q",
        "colab_type": "code",
        "colab": {}
      },
      "source": [
        "image_size = x_train.shape[1]\n",
        "input_size = image_size * image_size"
      ],
      "execution_count": 0,
      "outputs": []
    },
    {
      "cell_type": "markdown",
      "metadata": {
        "id": "_8Xg-3kHEnn2",
        "colab_type": "text"
      },
      "source": [
        "# Resize and Normalize"
      ]
    },
    {
      "cell_type": "markdown",
      "metadata": {
        "id": "OhuciKfpEWMm",
        "colab_type": "text"
      },
      "source": [
        "**Execrcise MNIST_V1.0.1: Suggest another way to normalize the data preserving the accuracy or improving the accuracy.**"
      ]
    },
    {
      "cell_type": "markdown",
      "metadata": {
        "id": "icty0K3Y8ZTd",
        "colab_type": "text"
      },
      "source": [
        "Z-score"
      ]
    },
    {
      "cell_type": "code",
      "metadata": {
        "id": "1FYWZ-iUEXFq",
        "colab_type": "code",
        "colab": {}
      },
      "source": [
        "x_train = np.reshape(x_train, [-1, input_size])\n",
        "x_train = x_train.astype('float32') / 255\n",
        "x_test = np.reshape(x_test, [-1, input_size])\n",
        "x_test = x_test.astype('float32') / 255"
      ],
      "execution_count": 0,
      "outputs": []
    },
    {
      "cell_type": "markdown",
      "metadata": {
        "id": "MYi-Q1FsF3AY",
        "colab_type": "text"
      },
      "source": [
        "# Create a Keras Model"
      ]
    },
    {
      "cell_type": "markdown",
      "metadata": {
        "id": "aTBt5qVNGDAU",
        "colab_type": "text"
      },
      "source": [
        "**Exercise MNIST_V1.1.0: Find out what is a dense layer?**"
      ]
    },
    {
      "cell_type": "markdown",
      "metadata": {
        "id": "t_P0O7W3uC9q",
        "colab_type": "text"
      },
      "source": [
        "A dense layer is just a regular layer of neurons in a neural network. Each neuron recieves input from all the neurons in the previous layer, thus densely connected. The layer has a weight matrix W, a bias vector b, and the activations of previous layer a."
      ]
    },
    {
      "cell_type": "markdown",
      "metadata": {
        "id": "GE_exRy-GM1_",
        "colab_type": "text"
      },
      "source": [
        "**Execrcise MNIST_V1.2.0: Find out what is the use of an activation function. Find out why, softmax was used as the last layer.**"
      ]
    },
    {
      "cell_type": "markdown",
      "metadata": {
        "id": "P3VstkTZtEiY",
        "colab_type": "text"
      },
      "source": [
        "Activation function are really important for an Artificial Neural Network to learn and make sense of something really complicated and Non-liner complex functional mappings between the imputs and response varibale. They introduce non-liner properties to our Network. Their main purpose is to convert an input signle of a node in a A-NN to an output signal. That output signal now is as an input in the next layer in the stack. \n",
        "\n",
        "The softmax function is simply a generalisation of the logistic function, which simply squashes values into a given range.\n",
        "At the final layer of a neural network, the model produces its final activations."
      ]
    },
    {
      "cell_type": "code",
      "metadata": {
        "id": "IuZb6OmVGNs8",
        "colab_type": "code",
        "outputId": "c5f90eed-12b6-4644-d0a4-2390749a1f69",
        "colab": {
          "base_uri": "https://localhost:8080/",
          "height": 660
        }
      },
      "source": [
        "batch_size = 4\n",
        "hidden_units = 64\n",
        "\n",
        "model = Sequential()\n",
        "model.add(Dense(hidden_units, input_dim=input_size))\n",
        "model.add(Dense(num_labels))\n",
        "model.add(Activation('softmax'))\n",
        "model.summary()\n",
        "plot_model(model, to_file='mnist_v1.png', show_shapes=True)"
      ],
      "execution_count": 0,
      "outputs": [
        {
          "output_type": "stream",
          "text": [
            "Model: \"sequential_6\"\n",
            "_________________________________________________________________\n",
            "Layer (type)                 Output Shape              Param #   \n",
            "=================================================================\n",
            "dense_11 (Dense)             (None, 64)                50240     \n",
            "_________________________________________________________________\n",
            "dense_12 (Dense)             (None, 10)                650       \n",
            "_________________________________________________________________\n",
            "activation_6 (Activation)    (None, 10)                0         \n",
            "=================================================================\n",
            "Total params: 50,890\n",
            "Trainable params: 50,890\n",
            "Non-trainable params: 0\n",
            "_________________________________________________________________\n"
          ],
          "name": "stdout"
        },
        {
          "output_type": "execute_result",
          "data": {
            "image/png": "[encoded data removed]",
            "text/plain": [
              "<IPython.core.display.Image object>"
            ]
          },
          "metadata": {
            "tags": []
          },
          "execution_count": 80
        }
      ]
    },
    {
      "cell_type": "markdown",
      "metadata": {
        "id": "CpeZyJ_2IM-D",
        "colab_type": "text"
      },
      "source": [
        "# Compile and Train"
      ]
    },
    {
      "cell_type": "markdown",
      "metadata": {
        "id": "3cHOnn2gINNF",
        "colab_type": "text"
      },
      "source": [
        "**Exercise MNIST_V1.3.0: Find 3 other optimizers used on neural networks.**"
      ]
    },
    {
      "cell_type": "markdown",
      "metadata": {
        "id": "6v9wq0yz25sv",
        "colab_type": "text"
      },
      "source": [
        "1: Gradient descent(gd)\n",
        "2: Momentum\n",
        "3: Adam"
      ]
    },
    {
      "cell_type": "markdown",
      "metadata": {
        "id": "D4hFYpleIShC",
        "colab_type": "text"
      },
      "source": [
        "**Exercise MNIST_V1.4.0: Find other loss functions provided in keras. Your answer can limit to 1 or more.**"
      ]
    },
    {
      "cell_type": "markdown",
      "metadata": {
        "id": "YEoWIZIC38Ui",
        "colab_type": "text"
      },
      "source": [
        "1: Mean Squared Error\n",
        "\n",
        "keras.losses.mean_squared_error(y_true, y_pred);\n",
        "\n",
        "2: Mean absolute Error\n",
        "\n",
        "keras.losses.mean_absolute_error(y_true, y_pred);\n",
        "\n",
        "3: Huber Loss\n",
        "\n",
        "keras.losses.huber_loss(y_true, y_pred, delta=1.0);"
      ]
    },
    {
      "cell_type": "markdown",
      "metadata": {
        "id": "DHT--7EnIWax",
        "colab_type": "text"
      },
      "source": [
        "**Exercise MNIST_V1.5.0: Figure out a way to plot the loss function value.You can use any method you like.**"
      ]
    },
    {
      "cell_type": "markdown",
      "metadata": {
        "id": "j4Q1--Y94obq",
        "colab_type": "text"
      },
      "source": [
        "Scatter plots. Uding liner regression. Making a model to build relationship between dependent variable(y) and independent variable(x)."
      ]
    },
    {
      "cell_type": "code",
      "metadata": {
        "id": "5GoROHROIXEK",
        "colab_type": "code",
        "outputId": "a8d81ee8-c434-4371-bcfd-27079b1024a2",
        "colab": {
          "base_uri": "https://localhost:8080/",
          "height": 153
        }
      },
      "source": [
        "StopWatch.start(\"compile\")\n",
        "model.compile(loss='categorical_crossentropy',\n",
        "              optimizer='adam',\n",
        "              metrics=['accuracy'])\n",
        "\n",
        "StopWatch.stop(\"compile\")\n",
        "StopWatch.start(\"train\")\n",
        "model.fit(x_train, y_train, epochs=4, batch_size=batch_size)\n",
        "StopWatch.stop(\"train\")"
      ],
      "execution_count": 0,
      "outputs": [
        {
          "output_type": "stream",
          "text": [
            "Epoch 1/4\n",
            "60000/60000 [==============================] - 25s 415us/step - loss: 0.3719 - acc: 0.8942\n",
            "Epoch 2/4\n",
            "60000/60000 [==============================] - 26s 428us/step - loss: 0.3199 - acc: 0.9099\n",
            "Epoch 3/4\n",
            "60000/60000 [==============================] - 25s 421us/step - loss: 0.3040 - acc: 0.9151\n",
            "Epoch 4/4\n",
            "60000/60000 [==============================] - 25s 419us/step - loss: 0.2974 - acc: 0.9158\n"
          ],
          "name": "stdout"
        }
      ]
    },
    {
      "cell_type": "markdown",
      "metadata": {
        "id": "f7AND49JJSMH",
        "colab_type": "text"
      },
      "source": [
        "# Testing"
      ]
    },
    {
      "cell_type": "markdown",
      "metadata": {
        "id": "em-VT1nTJSq0",
        "colab_type": "text"
      },
      "source": [
        "Exercise MNIST_V1.6.0: Try to optimize the network by changing the\n",
        "number of epochs, batch size and record the best accuracy that you can gain"
      ]
    },
    {
      "cell_type": "markdown",
      "metadata": {
        "id": "6Nv7wKUwOug_",
        "colab_type": "text"
      },
      "source": [
        "I have changed eposize and batch size. It was found that epoch increased and batch increased, which would increase the accuracy. compared the data. when epoch is 4,batch_size is 10, hadden_unites is 64, the acc is 92.1%; when epoch is 4, batches_size is 4, hidden_unites is 64, the acc is 91.7%. "
      ]
    },
    {
      "cell_type": "code",
      "metadata": {
        "id": "942icyoKJUaK",
        "colab_type": "code",
        "outputId": "e0bbfdae-649a-45c4-cda4-5a6ab812cdc8",
        "colab": {
          "base_uri": "https://localhost:8080/",
          "height": 68
        }
      },
      "source": [
        "StopWatch.start(\"test\")\n",
        "loss, acc = model.evaluate(x_test, y_test, batch_size=batch_size)\n",
        "print(\"\\nTest accuracy: %.1f%%\" % (100.0 * acc))\n",
        "StopWatch.stop(\"test\")\n"
      ],
      "execution_count": 0,
      "outputs": [
        {
          "output_type": "stream",
          "text": [
            "10000/10000 [==============================] - 2s 188us/step\n",
            "\n",
            "Test accuracy: 91.7%\n"
          ],
          "name": "stdout"
        }
      ]
    },
    {
      "cell_type": "code",
      "metadata": {
        "id": "R_xp2gmmLQ3S",
        "colab_type": "code",
        "outputId": "120af61b-2306-4b75-f07f-815275f017c6",
        "colab": {
          "base_uri": "https://localhost:8080/",
          "height": 1000
        }
      },
      "source": [
        "StopWatch.benchmark()"
      ],
      "execution_count": 0,
      "outputs": [
        {
          "output_type": "stream",
          "text": [
            "\n",
            "+---------------------+------------------------------------------------------------------+\n",
            "| Machine Attribute   | Value                                                            |\n",
            "+---------------------+------------------------------------------------------------------+\n",
            "| BUG_REPORT_URL      | \"https://bugs.launchpad.net/ubuntu/\"                             |\n",
            "| DISTRIB_CODENAME    | bionic                                                           |\n",
            "| DISTRIB_DESCRIPTION | \"Ubuntu 18.04.3 LTS\"                                             |\n",
            "| DISTRIB_ID          | Ubuntu                                                           |\n",
            "| DISTRIB_RELEASE     | 18.04                                                            |\n",
            "| HOME_URL            | \"https://www.ubuntu.com/\"                                        |\n",
            "| ID                  | ubuntu                                                           |\n",
            "| ID_LIKE             | debian                                                           |\n",
            "| NAME                | \"Ubuntu\"                                                         |\n",
            "| PRETTY_NAME         | \"Ubuntu 18.04.3 LTS\"                                             |\n",
            "| PRIVACY_POLICY_URL  | \"https://www.ubuntu.com/legal/terms-and-policies/privacy-policy\" |\n",
            "| SUPPORT_URL         | \"https://help.ubuntu.com/\"                                       |\n",
            "| UBUNTU_CODENAME     | bionic                                                           |\n",
            "| VERSION             | \"18.04.3 LTS (Bionic Beaver)\"                                    |\n",
            "| VERSION_CODENAME    | bionic                                                           |\n",
            "| VERSION_ID          | \"18.04\"                                                          |\n",
            "| cpu_count           | 2                                                                |\n",
            "| mac_version         |                                                                  |\n",
            "| machine             | ('x86_64',)                                                      |\n",
            "| mem_active          | 1012.1 MiB                                                       |\n",
            "| mem_available       | 11.6 GiB                                                         |\n",
            "| mem_free            | 4.8 GiB                                                          |\n",
            "| mem_inactive        | 6.5 GiB                                                          |\n",
            "| mem_percent         | 8.4%                                                             |\n",
            "| mem_total           | 12.7 GiB                                                         |\n",
            "| mem_used            | 1020.7 MiB                                                       |\n",
            "| node                | ('900b0bdf130c',)                                                |\n",
            "| platform            | Linux-4.14.137+-x86_64-with-Ubuntu-18.04-bionic                  |\n",
            "| processor           | ('x86_64',)                                                      |\n",
            "| processors          | Linux                                                            |\n",
            "| python              | 3.6.8 (default, Jan 14 2019, 11:02:34)                           |\n",
            "|                     | [GCC 8.0.1 20180414 (experimental) [trunk revision 259383]]      |\n",
            "| release             | ('4.14.137+',)                                                   |\n",
            "| sys                 | linux                                                            |\n",
            "| system              | Linux                                                            |\n",
            "| user                |                                                                  |\n",
            "| version             | #1 SMP Thu Aug 8 02:47:02 PDT 2019                               |\n",
            "| win_version         |                                                                  |\n",
            "+---------------------+------------------------------------------------------------------+\n",
            "+-----------+-------+---------------------+-----+-------------------+------+--------+-------------+-------------+\n",
            "| timer     | time  | start               | tag | node              | user | system | mac_version | win_version |\n",
            "+-----------+-------+---------------------+-----+-------------------+------+--------+-------------+-------------+\n",
            "| data-load | 0.31  | 2019-10-17 19:21:49 |     | ('900b0bdf130c',) |      | Linux  |             |             |\n",
            "| compile   | 0.054 | 2019-10-17 19:22:02 |     | ('900b0bdf130c',) |      | Linux  |             |             |\n",
            "| train     |       | 2019-10-17 19:22:02 |     | ('900b0bdf130c',) |      | Linux  |             |             |\n",
            "| test      |       | 2019-10-17 19:22:15 |     | ('900b0bdf130c',) |      | Linux  |             |             |\n",
            "+-----------+-------+---------------------+-----+-------------------+------+--------+-------------+-------------+\n",
            "\n",
            "csv,timer,time,starttag,node,user,system,mac_version,win_version\n",
            "#csv,data-load,0.31,None,('900b0bdf130c',),,Linux,,\n",
            "#csv,compile,0.054,None,('900b0bdf130c',),,Linux,,\n",
            "#csv,train,None,None,('900b0bdf130c',),,Linux,,\n",
            "#csv,test,None,None,('900b0bdf130c',),,Linux,,\n",
            "\n"
          ],
          "name": "stdout"
        }
      ]
    }
  ]
}